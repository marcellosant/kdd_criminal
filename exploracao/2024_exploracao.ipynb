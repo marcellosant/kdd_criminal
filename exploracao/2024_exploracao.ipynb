{
 "cells": [
  {
   "cell_type": "code",
   "execution_count": 1,
   "id": "4f9d49d8",
   "metadata": {},
   "outputs": [
    {
     "name": "stdout",
     "output_type": "stream",
     "text": [
      "  CONSOLIDADO(S)           ESPECIFICAÇÃO CRIME MEIO EMPREGADO DEAC  \\\n",
      "0          FURTO               MEDIANTE FRAUDE     SEM INSTRUMENTO   \n",
      "1          FURTO   AO ESTABELECIMENTO DE SAUDE     SEM INSTRUMENTO   \n",
      "2          FURTO  AO ESTABELECIMENTO COMERCIAL     SEM INSTRUMENTO   \n",
      "3          FURTO               MEDIANTE FRAUDE     SEM INSTRUMENTO   \n",
      "4          FURTO               MEDIANTE FRAUDE     SEM INSTRUMENTO   \n",
      "\n",
      "  MUNICÍPIO(S)             BAIRRO(S)  ANO DO FATO MÊS DO FATO      RISP  \\\n",
      "0   ANANINDEUA           CIDADE NOVA         2024     JANEIRO  02ª RISP   \n",
      "1   ANANINDEUA  CENTRO DE ANANINDEUA         2024   FEVEREIRO  02ª RISP   \n",
      "2   ANANINDEUA  CENTRO DE ANANINDEUA         2024   FEVEREIRO  02ª RISP   \n",
      "3   ANANINDEUA  CENTRO DE ANANINDEUA         2024     JANEIRO  02ª RISP   \n",
      "4   ANANINDEUA          ICUI-GUAJARA         2024     JANEIRO  02ª RISP   \n",
      "\n",
      "       AISP DATA DO FATO  ... IDADE VÍTIMA       FAIXA ETÁRIA VÍTIMA  \\\n",
      "0  18ª AISP   2024-01-23  ...           28  ADULTO II (25 A 29 ANOS)   \n",
      "1  20ª AISP   2024-02-02  ...        88888           PJ, EP E OUTROS   \n",
      "2  20ª AISP   2024-02-02  ...        88888           PJ, EP E OUTROS   \n",
      "3  20ª AISP   2024-01-30  ...           59  ADULTO IV (35 A 64 ANOS)   \n",
      "4  18ª AISP   2024-01-20  ...           64  ADULTO IV (35 A 64 ANOS)   \n",
      "\n",
      "    TIPO DE VÍTIMA       COR VÍTIMA GRAU DE INSTRUÇÃO VÍTIMA  \\\n",
      "0      PREJUDICADO      PREJUDICADO    ENSINO MEDIO COMPLETO   \n",
      "1  PJ, EP E OUTROS  PJ, EP E OUTROS          PJ, EP E OUTROS   \n",
      "2  PJ, EP E OUTROS  PJ, EP E OUTROS          PJ, EP E OUTROS   \n",
      "3      PREJUDICADO      PREJUDICADO    ENSINO MEDIO COMPLETO   \n",
      "4      PREJUDICADO      PREJUDICADO    ENSINO MEDIO COMPLETO   \n",
      "\n",
      "  ESTADO CIVÍL VÍTIMA SEXO AUTOR IDADE AUTOR    COR AUTOR  \\\n",
      "0       UNIAO ESTAVEL          P     66666.0  PREJUDICADO   \n",
      "1     PJ, EP E OUTROS          F     66666.0  PREJUDICADO   \n",
      "2     PJ, EP E OUTROS          P     66666.0  PREJUDICADO   \n",
      "3           CASADO(A)          P     66666.0  PREJUDICADO   \n",
      "4           CASADO(A)          P     66666.0  PREJUDICADO   \n",
      "\n",
      "  GRAU DE RELACIONAMENTO  \n",
      "0                    NaN  \n",
      "1                    NaN  \n",
      "2                    NaN  \n",
      "3                    NaN  \n",
      "4                    NaN  \n",
      "\n",
      "[5 rows x 30 columns]\n",
      "Index(['CONSOLIDADO(S)', 'ESPECIFICAÇÃO CRIME', 'MEIO EMPREGADO DEAC',\n",
      "       'MUNICÍPIO(S)', 'BAIRRO(S)', 'ANO DO FATO', 'MÊS DO FATO', 'RISP',\n",
      "       'AISP', 'DATA DO FATO', 'DIA DA SEMANA', 'HORA DO FATO',\n",
      "       'FAIXA 4 HORAS', 'FAIXA 12 HORAS', 'LATITUDE', 'LONGITUDE', 'DISTRITO',\n",
      "       'REGIÃO DE INTEGRAÇÃO', 'LOCAL DA OCORRÊNCIA', 'SEXO VÍTIMA',\n",
      "       'IDADE VÍTIMA', 'FAIXA ETÁRIA VÍTIMA', 'TIPO DE VÍTIMA', 'COR VÍTIMA',\n",
      "       'GRAU DE INSTRUÇÃO VÍTIMA', 'ESTADO CIVÍL VÍTIMA', 'SEXO AUTOR',\n",
      "       'IDADE AUTOR', 'COR AUTOR', 'GRAU DE RELACIONAMENTO'],\n",
      "      dtype='object')\n"
     ]
    }
   ],
   "source": [
    "import pandas as pd\n",
    "\n",
    "df = pd.read_excel(\"/workspaces/kdd_criminal/data/27_04_25.xlsx\", sheet_name=\"Sheet1\")\n",
    "print(df.head())\n",
    "print(df.columns)\n"
   ]
  },
  {
   "cell_type": "code",
   "execution_count": 9,
   "id": "0db10689",
   "metadata": {},
   "outputs": [],
   "source": [
    "df.replace(['88888', '66666', 'PREJUDICADO', 'PJ, EP E OUTROS'], pd.NA, inplace=True)\n",
    "df['VIOLENCIA'] = df['MEIO EMPREGADO DEAC'].str.contains(\"VIOLENCIA\", na=False).astype(int)\n"
   ]
  },
  {
   "cell_type": "code",
   "execution_count": null,
   "id": "87709f10",
   "metadata": {},
   "outputs": [],
   "source": []
  },
  {
   "cell_type": "code",
   "execution_count": 10,
   "id": "7a11c1b3",
   "metadata": {},
   "outputs": [
    {
     "name": "stdout",
     "output_type": "stream",
     "text": [
      "       ANO DO FATO                   DATA DO FATO  IDADE VÍTIMA   IDADE AUTOR  \\\n",
      "count      11768.0                          11768  11768.000000  11767.000000   \n",
      "mean        2024.0  2024-06-29 18:29:51.434398464   6801.931084  64445.237189   \n",
      "min         2024.0            2024-01-01 00:00:00      1.000000     10.000000   \n",
      "25%         2024.0            2024-03-31 18:00:00     27.000000  66666.000000   \n",
      "50%         2024.0            2024-06-29 00:00:00     38.000000  66666.000000   \n",
      "75%         2024.0            2024-10-01 00:00:00     53.000000  66666.000000   \n",
      "max         2024.0            2024-12-31 00:00:00  99999.000000  88888.000000   \n",
      "std            0.0                            NaN  23122.719517  11977.827707   \n",
      "\n",
      "          VIOLENCIA  \n",
      "count  11768.000000  \n",
      "mean       0.036965  \n",
      "min        0.000000  \n",
      "25%        0.000000  \n",
      "50%        0.000000  \n",
      "75%        0.000000  \n",
      "max        1.000000  \n",
      "std        0.188683  \n",
      "<class 'pandas.core.frame.DataFrame'>\n",
      "RangeIndex: 11768 entries, 0 to 11767\n",
      "Data columns (total 31 columns):\n",
      " #   Column                    Non-Null Count  Dtype         \n",
      "---  ------                    --------------  -----         \n",
      " 0   CONSOLIDADO(S)            11768 non-null  object        \n",
      " 1   ESPECIFICAÇÃO CRIME       11628 non-null  object        \n",
      " 2   MEIO EMPREGADO DEAC       11377 non-null  object        \n",
      " 3   MUNICÍPIO(S)              11768 non-null  object        \n",
      " 4   BAIRRO(S)                 11768 non-null  object        \n",
      " 5   ANO DO FATO               11768 non-null  int64         \n",
      " 6   MÊS DO FATO               11768 non-null  object        \n",
      " 7   RISP                      11768 non-null  object        \n",
      " 8   AISP                      11768 non-null  object        \n",
      " 9   DATA DO FATO              11768 non-null  datetime64[ns]\n",
      " 10  DIA DA SEMANA             11768 non-null  object        \n",
      " 11  HORA DO FATO              11768 non-null  object        \n",
      " 12  FAIXA 4 HORAS             11768 non-null  object        \n",
      " 13  FAIXA 12 HORAS            11768 non-null  object        \n",
      " 14  LATITUDE                  11768 non-null  object        \n",
      " 15  LONGITUDE                 11768 non-null  object        \n",
      " 16  DISTRITO                  11768 non-null  object        \n",
      " 17  REGIÃO DE INTEGRAÇÃO      11768 non-null  object        \n",
      " 18  LOCAL DA OCORRÊNCIA       11744 non-null  object        \n",
      " 19  SEXO VÍTIMA               11768 non-null  object        \n",
      " 20  IDADE VÍTIMA              11768 non-null  int64         \n",
      " 21  FAIXA ETÁRIA VÍTIMA       10831 non-null  object        \n",
      " 22  TIPO DE VÍTIMA            1384 non-null   object        \n",
      " 23  COR VÍTIMA                136 non-null    object        \n",
      " 24  GRAU DE INSTRUÇÃO VÍTIMA  10603 non-null  object        \n",
      " 25  ESTADO CIVÍL VÍTIMA       10667 non-null  object        \n",
      " 26  SEXO AUTOR                11768 non-null  object        \n",
      " 27  IDADE AUTOR               11767 non-null  float64       \n",
      " 28  COR AUTOR                 1052 non-null   object        \n",
      " 29  GRAU DE RELACIONAMENTO    245 non-null    object        \n",
      " 30  VIOLENCIA                 11768 non-null  int64         \n",
      "dtypes: datetime64[ns](1), float64(1), int64(3), object(26)\n",
      "memory usage: 2.8+ MB\n"
     ]
    }
   ],
   "source": [
    "print(df.describe())\n",
    "df.info()  # To check data types and non-null counts\n"
   ]
  },
  {
   "cell_type": "code",
   "execution_count": 11,
   "id": "3ceee134",
   "metadata": {},
   "outputs": [],
   "source": [
    "df['DATA DO FATO'] = pd.to_datetime(df['DATA DO FATO'], errors='coerce')\n",
    "df['DIA_SEMANA'] = df['DATA DO FATO'].dt.day_name()\n",
    "df['HORA'] = pd.to_datetime(df['HORA DO FATO'], format=\"%H:%M:%S\", errors='coerce').dt.hour\n"
   ]
  },
  {
   "cell_type": "code",
   "execution_count": 8,
   "id": "55ccd70d",
   "metadata": {},
   "outputs": [],
   "source": [
    "missing_symbols = ['88888', '66666', 'PREJUDICADO', 'PJ, EP E OUTROS']\n",
    "df.replace(missing_symbols, pd.NA, inplace=True)\n"
   ]
  },
  {
   "cell_type": "code",
   "execution_count": null,
   "id": "f041d270",
   "metadata": {},
   "outputs": [],
   "source": []
  }
 ],
 "metadata": {
  "kernelspec": {
   "display_name": "Python 3",
   "language": "python",
   "name": "python3"
  },
  "language_info": {
   "codemirror_mode": {
    "name": "ipython",
    "version": 3
   },
   "file_extension": ".py",
   "mimetype": "text/x-python",
   "name": "python",
   "nbconvert_exporter": "python",
   "pygments_lexer": "ipython3",
   "version": "3.12.1"
  }
 },
 "nbformat": 4,
 "nbformat_minor": 5
}
